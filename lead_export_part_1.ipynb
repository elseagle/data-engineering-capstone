{
 "cells": [
  {
   "cell_type": "code",
   "execution_count": 1,
   "metadata": {},
   "outputs": [
    {
     "name": "stderr",
     "output_type": "stream",
     "text": [
      "/Users/oluwasogo/anaconda3/lib/python3.7/site-packages/pandas/compat/_optional.py:138: UserWarning: Pandas requires version '2.7.0' or newer of 'numexpr' (version '2.6.9' currently installed).\n",
      "  warnings.warn(msg, UserWarning)\n"
     ]
    }
   ],
   "source": [
    "import os\n",
    "\n",
    "\n",
    "import gspread\n",
    "from oauth2client.service_account import ServiceAccountCredentials\n",
    "import pandas as pd\n",
    "\n",
    "\n",
    "from pyspark.sql import SparkSession\n",
    "import pyspark.sql.types as T\n",
    "import pyspark.sql.functions as F\n",
    "import json"
   ]
  },
  {
   "cell_type": "code",
   "execution_count": 2,
   "metadata": {},
   "outputs": [],
   "source": []
  },
  {
   "cell_type": "code",
   "execution_count": 3,
   "metadata": {},
   "outputs": [],
   "source": [
    "# import sys, subprocess\n",
    "# subprocess.check_call([sys.executable, '-m', 'pip', 'install', 'oauth2client'])"
   ]
  },
  {
   "cell_type": "code",
   "execution_count": 4,
   "metadata": {},
   "outputs": [],
   "source": [
    "# intialize google sheets config\n",
    "scope = [\n",
    "        \"https://www.googleapis.com/auth/spreadsheets\",\n",
    "        \"https://www.googleapis.com/auth/drive.file\",\n",
    "        \"https://www.googleapis.com/auth/drive\",\n",
    "    ]\n",
    "credential = ServiceAccountCredentials.from_json_keyfile_name(os.environ[\"SHEET_CREDS\"], scope)\n",
    "client = gspread.authorize(credential)\n",
    "sh = client.open_by_url(os.environ[\"SHEET_URL\"]).sheet1"
   ]
  },
  {
   "cell_type": "code",
   "execution_count": 5,
   "metadata": {},
   "outputs": [
    {
     "data": {
      "text/plain": [
       "{'COMAPANY': 'Swiss Re ',\n",
       " 'First Name': 'Amit',\n",
       " 'Last Name': 'Arora',\n",
       " 'TITLE': 'Head - Digital Transformations & Process Re-Engineering (Claims)',\n",
       " 'SALES NAV URL': 'https://www.linkedin.com/sales/people/ACwAAAAwPl0BJvV9sgYFXJDX3KMB0MZcvioGl7o,NAME_SEARCH,L9y9?_ntb=pUdPbnhMQl%2B0L5rF9shozA%3D%3D',\n",
       " 'LINKEDIN URL': '',\n",
       " 'Timestamp': '11/23/2022 1:55:29'}"
      ]
     },
     "execution_count": 5,
     "metadata": {},
     "output_type": "execute_result"
    }
   ],
   "source": [
    "# get all records needed in json format\n",
    "sheet = sh.get_all_records()\n",
    "sheet[0]"
   ]
  },
  {
   "cell_type": "code",
   "execution_count": 6,
   "metadata": {},
   "outputs": [],
   "source": [
    "# create dataframe for the data\n",
    "df = pd.DataFrame(sheet)"
   ]
  },
  {
   "cell_type": "code",
   "execution_count": 7,
   "metadata": {},
   "outputs": [
    {
     "data": {
      "text/html": [
       "<div>\n",
       "<style scoped>\n",
       "    .dataframe tbody tr th:only-of-type {\n",
       "        vertical-align: middle;\n",
       "    }\n",
       "\n",
       "    .dataframe tbody tr th {\n",
       "        vertical-align: top;\n",
       "    }\n",
       "\n",
       "    .dataframe thead th {\n",
       "        text-align: right;\n",
       "    }\n",
       "</style>\n",
       "<table border=\"1\" class=\"dataframe\">\n",
       "  <thead>\n",
       "    <tr style=\"text-align: right;\">\n",
       "      <th></th>\n",
       "      <th>COMAPANY</th>\n",
       "      <th>First Name</th>\n",
       "      <th>Last Name</th>\n",
       "      <th>TITLE</th>\n",
       "      <th>SALES NAV URL</th>\n",
       "      <th>LINKEDIN URL</th>\n",
       "      <th>Timestamp</th>\n",
       "    </tr>\n",
       "  </thead>\n",
       "  <tbody>\n",
       "    <tr>\n",
       "      <th>0</th>\n",
       "      <td>Swiss Re</td>\n",
       "      <td>Amit</td>\n",
       "      <td>Arora</td>\n",
       "      <td>Head - Digital Transformations &amp; Process Re-En...</td>\n",
       "      <td>https://www.linkedin.com/sales/people/ACwAAAAw...</td>\n",
       "      <td></td>\n",
       "      <td>11/23/2022 1:55:29</td>\n",
       "    </tr>\n",
       "    <tr>\n",
       "      <th>1</th>\n",
       "      <td>Swiss Re</td>\n",
       "      <td>Tarun</td>\n",
       "      <td>Kohli</td>\n",
       "      <td>Managing Director &amp; Head - New Propositions</td>\n",
       "      <td>https://www.linkedin.com/sales/people/ACwAAACF...</td>\n",
       "      <td>https://www.linkedin.com/in/tarunkohli/</td>\n",
       "      <td>11/23/2022 1:55:29</td>\n",
       "    </tr>\n",
       "    <tr>\n",
       "      <th>2</th>\n",
       "      <td>Swiss Re</td>\n",
       "      <td>Rolf</td>\n",
       "      <td>Lux</td>\n",
       "      <td>Head Strategy &amp; Operations, Global Business So...</td>\n",
       "      <td>https://www.linkedin.com/sales/people/ACwAAAfd...</td>\n",
       "      <td>https://ch.linkedin.com/in/rolf-lux-81b24b38</td>\n",
       "      <td>11/23/2022 1:55:29</td>\n",
       "    </tr>\n",
       "    <tr>\n",
       "      <th>3</th>\n",
       "      <td>Swiss Re</td>\n",
       "      <td>Rita</td>\n",
       "      <td>Müller</td>\n",
       "      <td>Head of P&amp;C Business Management UK and Ireland...</td>\n",
       "      <td>https://www.linkedin.com/sales/people/ACwAABj7...</td>\n",
       "      <td>https://www.linkedin.com/in/rita-m%C3%BCller-1...</td>\n",
       "      <td>11/23/2022 1:55:29</td>\n",
       "    </tr>\n",
       "    <tr>\n",
       "      <th>4</th>\n",
       "      <td>Swiss Re</td>\n",
       "      <td>Rolf</td>\n",
       "      <td>Bachmann</td>\n",
       "      <td>Head Global Dialogue</td>\n",
       "      <td>https://www.linkedin.com/sales/people/ACwAAAtz...</td>\n",
       "      <td>https://ch.linkedin.com/in/rolfbachmann</td>\n",
       "      <td>11/23/2022 1:55:29</td>\n",
       "    </tr>\n",
       "  </tbody>\n",
       "</table>\n",
       "</div>"
      ],
      "text/plain": [
       "    COMAPANY First Name Last Name  \\\n",
       "0  Swiss Re        Amit     Arora   \n",
       "1   Swiss Re      Tarun     Kohli   \n",
       "2   Swiss Re       Rolf       Lux   \n",
       "3   Swiss Re       Rita    Müller   \n",
       "4   Swiss Re       Rolf  Bachmann   \n",
       "\n",
       "                                               TITLE  \\\n",
       "0  Head - Digital Transformations & Process Re-En...   \n",
       "1        Managing Director & Head - New Propositions   \n",
       "2  Head Strategy & Operations, Global Business So...   \n",
       "3  Head of P&C Business Management UK and Ireland...   \n",
       "4                               Head Global Dialogue   \n",
       "\n",
       "                                       SALES NAV URL  \\\n",
       "0  https://www.linkedin.com/sales/people/ACwAAAAw...   \n",
       "1  https://www.linkedin.com/sales/people/ACwAAACF...   \n",
       "2  https://www.linkedin.com/sales/people/ACwAAAfd...   \n",
       "3  https://www.linkedin.com/sales/people/ACwAABj7...   \n",
       "4  https://www.linkedin.com/sales/people/ACwAAAtz...   \n",
       "\n",
       "                                        LINKEDIN URL           Timestamp  \n",
       "0                                                     11/23/2022 1:55:29  \n",
       "1            https://www.linkedin.com/in/tarunkohli/  11/23/2022 1:55:29  \n",
       "2       https://ch.linkedin.com/in/rolf-lux-81b24b38  11/23/2022 1:55:29  \n",
       "3  https://www.linkedin.com/in/rita-m%C3%BCller-1...  11/23/2022 1:55:29  \n",
       "4            https://ch.linkedin.com/in/rolfbachmann  11/23/2022 1:55:29  "
      ]
     },
     "execution_count": 7,
     "metadata": {},
     "output_type": "execute_result"
    }
   ],
   "source": [
    "# check the first 5 rows\n",
    "df.head()"
   ]
  },
  {
   "cell_type": "code",
   "execution_count": 8,
   "metadata": {},
   "outputs": [],
   "source": [
    "# set columns to lowercase\n",
    "df.columns = [\"company\", \"first_name\", \"last_name\", \"title\", \"sales_nav_url\", \"linkedin_url\", \"operator_timestamp\"]"
   ]
  },
  {
   "cell_type": "code",
   "execution_count": 9,
   "metadata": {},
   "outputs": [
    {
     "data": {
      "text/plain": [
       "Index(['company', 'first_name', 'last_name', 'title', 'sales_nav_url',\n",
       "       'linkedin_url', 'operator_timestamp'],\n",
       "      dtype='object')"
      ]
     },
     "execution_count": 9,
     "metadata": {},
     "output_type": "execute_result"
    }
   ],
   "source": [
    "df.columns"
   ]
  },
  {
   "cell_type": "code",
   "execution_count": 10,
   "metadata": {},
   "outputs": [
    {
     "data": {
      "text/html": [
       "<div>\n",
       "<style scoped>\n",
       "    .dataframe tbody tr th:only-of-type {\n",
       "        vertical-align: middle;\n",
       "    }\n",
       "\n",
       "    .dataframe tbody tr th {\n",
       "        vertical-align: top;\n",
       "    }\n",
       "\n",
       "    .dataframe thead th {\n",
       "        text-align: right;\n",
       "    }\n",
       "</style>\n",
       "<table border=\"1\" class=\"dataframe\">\n",
       "  <thead>\n",
       "    <tr style=\"text-align: right;\">\n",
       "      <th></th>\n",
       "      <th>company</th>\n",
       "      <th>first_name</th>\n",
       "      <th>last_name</th>\n",
       "      <th>title</th>\n",
       "      <th>sales_nav_url</th>\n",
       "      <th>linkedin_url</th>\n",
       "      <th>operator_timestamp</th>\n",
       "    </tr>\n",
       "  </thead>\n",
       "  <tbody>\n",
       "    <tr>\n",
       "      <th>0</th>\n",
       "      <td>Swiss Re</td>\n",
       "      <td>Amit</td>\n",
       "      <td>Arora</td>\n",
       "      <td>Head - Digital Transformations &amp; Process Re-En...</td>\n",
       "      <td>https://www.linkedin.com/sales/people/ACwAAAAw...</td>\n",
       "      <td></td>\n",
       "      <td>11/23/2022 1:55:29</td>\n",
       "    </tr>\n",
       "    <tr>\n",
       "      <th>1</th>\n",
       "      <td>Swiss Re</td>\n",
       "      <td>Tarun</td>\n",
       "      <td>Kohli</td>\n",
       "      <td>Managing Director &amp; Head - New Propositions</td>\n",
       "      <td>https://www.linkedin.com/sales/people/ACwAAACF...</td>\n",
       "      <td>https://www.linkedin.com/in/tarunkohli/</td>\n",
       "      <td>11/23/2022 1:55:29</td>\n",
       "    </tr>\n",
       "    <tr>\n",
       "      <th>2</th>\n",
       "      <td>Swiss Re</td>\n",
       "      <td>Rolf</td>\n",
       "      <td>Lux</td>\n",
       "      <td>Head Strategy &amp; Operations, Global Business So...</td>\n",
       "      <td>https://www.linkedin.com/sales/people/ACwAAAfd...</td>\n",
       "      <td>https://ch.linkedin.com/in/rolf-lux-81b24b38</td>\n",
       "      <td>11/23/2022 1:55:29</td>\n",
       "    </tr>\n",
       "    <tr>\n",
       "      <th>3</th>\n",
       "      <td>Swiss Re</td>\n",
       "      <td>Rita</td>\n",
       "      <td>Müller</td>\n",
       "      <td>Head of P&amp;C Business Management UK and Ireland...</td>\n",
       "      <td>https://www.linkedin.com/sales/people/ACwAABj7...</td>\n",
       "      <td>https://www.linkedin.com/in/rita-m%C3%BCller-1...</td>\n",
       "      <td>11/23/2022 1:55:29</td>\n",
       "    </tr>\n",
       "    <tr>\n",
       "      <th>4</th>\n",
       "      <td>Swiss Re</td>\n",
       "      <td>Rolf</td>\n",
       "      <td>Bachmann</td>\n",
       "      <td>Head Global Dialogue</td>\n",
       "      <td>https://www.linkedin.com/sales/people/ACwAAAtz...</td>\n",
       "      <td>https://ch.linkedin.com/in/rolfbachmann</td>\n",
       "      <td>11/23/2022 1:55:29</td>\n",
       "    </tr>\n",
       "  </tbody>\n",
       "</table>\n",
       "</div>"
      ],
      "text/plain": [
       "     company first_name last_name  \\\n",
       "0  Swiss Re        Amit     Arora   \n",
       "1   Swiss Re      Tarun     Kohli   \n",
       "2   Swiss Re       Rolf       Lux   \n",
       "3   Swiss Re       Rita    Müller   \n",
       "4   Swiss Re       Rolf  Bachmann   \n",
       "\n",
       "                                               title  \\\n",
       "0  Head - Digital Transformations & Process Re-En...   \n",
       "1        Managing Director & Head - New Propositions   \n",
       "2  Head Strategy & Operations, Global Business So...   \n",
       "3  Head of P&C Business Management UK and Ireland...   \n",
       "4                               Head Global Dialogue   \n",
       "\n",
       "                                       sales_nav_url  \\\n",
       "0  https://www.linkedin.com/sales/people/ACwAAAAw...   \n",
       "1  https://www.linkedin.com/sales/people/ACwAAACF...   \n",
       "2  https://www.linkedin.com/sales/people/ACwAAAfd...   \n",
       "3  https://www.linkedin.com/sales/people/ACwAABj7...   \n",
       "4  https://www.linkedin.com/sales/people/ACwAAAtz...   \n",
       "\n",
       "                                        linkedin_url  operator_timestamp  \n",
       "0                                                     11/23/2022 1:55:29  \n",
       "1            https://www.linkedin.com/in/tarunkohli/  11/23/2022 1:55:29  \n",
       "2       https://ch.linkedin.com/in/rolf-lux-81b24b38  11/23/2022 1:55:29  \n",
       "3  https://www.linkedin.com/in/rita-m%C3%BCller-1...  11/23/2022 1:55:29  \n",
       "4            https://ch.linkedin.com/in/rolfbachmann  11/23/2022 1:55:29  "
      ]
     },
     "execution_count": 10,
     "metadata": {},
     "output_type": "execute_result"
    }
   ],
   "source": [
    "df.head()"
   ]
  },
  {
   "cell_type": "code",
   "execution_count": 11,
   "metadata": {},
   "outputs": [],
   "source": [
    "# remove white_spaces\n",
    "for col in df.columns:\n",
    "    if col != \"operator_timestamp\":\n",
    "        df[col] = df[col].str.strip()"
   ]
  },
  {
   "cell_type": "code",
   "execution_count": 12,
   "metadata": {},
   "outputs": [
    {
     "data": {
      "text/html": [
       "<div>\n",
       "<style scoped>\n",
       "    .dataframe tbody tr th:only-of-type {\n",
       "        vertical-align: middle;\n",
       "    }\n",
       "\n",
       "    .dataframe tbody tr th {\n",
       "        vertical-align: top;\n",
       "    }\n",
       "\n",
       "    .dataframe thead th {\n",
       "        text-align: right;\n",
       "    }\n",
       "</style>\n",
       "<table border=\"1\" class=\"dataframe\">\n",
       "  <thead>\n",
       "    <tr style=\"text-align: right;\">\n",
       "      <th></th>\n",
       "      <th>company</th>\n",
       "      <th>first_name</th>\n",
       "      <th>last_name</th>\n",
       "      <th>title</th>\n",
       "      <th>sales_nav_url</th>\n",
       "      <th>linkedin_url</th>\n",
       "      <th>operator_timestamp</th>\n",
       "    </tr>\n",
       "  </thead>\n",
       "  <tbody>\n",
       "    <tr>\n",
       "      <th>0</th>\n",
       "      <td>Swiss Re</td>\n",
       "      <td>Amit</td>\n",
       "      <td>Arora</td>\n",
       "      <td>Head - Digital Transformations &amp; Process Re-En...</td>\n",
       "      <td>https://www.linkedin.com/sales/people/ACwAAAAw...</td>\n",
       "      <td></td>\n",
       "      <td>11/23/2022 1:55:29</td>\n",
       "    </tr>\n",
       "    <tr>\n",
       "      <th>1</th>\n",
       "      <td>Swiss Re</td>\n",
       "      <td>Tarun</td>\n",
       "      <td>Kohli</td>\n",
       "      <td>Managing Director &amp; Head - New Propositions</td>\n",
       "      <td>https://www.linkedin.com/sales/people/ACwAAACF...</td>\n",
       "      <td>https://www.linkedin.com/in/tarunkohli/</td>\n",
       "      <td>11/23/2022 1:55:29</td>\n",
       "    </tr>\n",
       "    <tr>\n",
       "      <th>2</th>\n",
       "      <td>Swiss Re</td>\n",
       "      <td>Rolf</td>\n",
       "      <td>Lux</td>\n",
       "      <td>Head Strategy &amp; Operations, Global Business So...</td>\n",
       "      <td>https://www.linkedin.com/sales/people/ACwAAAfd...</td>\n",
       "      <td>https://ch.linkedin.com/in/rolf-lux-81b24b38</td>\n",
       "      <td>11/23/2022 1:55:29</td>\n",
       "    </tr>\n",
       "    <tr>\n",
       "      <th>3</th>\n",
       "      <td>Swiss Re</td>\n",
       "      <td>Rita</td>\n",
       "      <td>Müller</td>\n",
       "      <td>Head of P&amp;C Business Management UK and Ireland...</td>\n",
       "      <td>https://www.linkedin.com/sales/people/ACwAABj7...</td>\n",
       "      <td>https://www.linkedin.com/in/rita-m%C3%BCller-1...</td>\n",
       "      <td>11/23/2022 1:55:29</td>\n",
       "    </tr>\n",
       "    <tr>\n",
       "      <th>4</th>\n",
       "      <td>Swiss Re</td>\n",
       "      <td>Rolf</td>\n",
       "      <td>Bachmann</td>\n",
       "      <td>Head Global Dialogue</td>\n",
       "      <td>https://www.linkedin.com/sales/people/ACwAAAtz...</td>\n",
       "      <td>https://ch.linkedin.com/in/rolfbachmann</td>\n",
       "      <td>11/23/2022 1:55:29</td>\n",
       "    </tr>\n",
       "  </tbody>\n",
       "</table>\n",
       "</div>"
      ],
      "text/plain": [
       "    company first_name last_name  \\\n",
       "0  Swiss Re       Amit     Arora   \n",
       "1  Swiss Re      Tarun     Kohli   \n",
       "2  Swiss Re       Rolf       Lux   \n",
       "3  Swiss Re       Rita    Müller   \n",
       "4  Swiss Re       Rolf  Bachmann   \n",
       "\n",
       "                                               title  \\\n",
       "0  Head - Digital Transformations & Process Re-En...   \n",
       "1        Managing Director & Head - New Propositions   \n",
       "2  Head Strategy & Operations, Global Business So...   \n",
       "3  Head of P&C Business Management UK and Ireland...   \n",
       "4                               Head Global Dialogue   \n",
       "\n",
       "                                       sales_nav_url  \\\n",
       "0  https://www.linkedin.com/sales/people/ACwAAAAw...   \n",
       "1  https://www.linkedin.com/sales/people/ACwAAACF...   \n",
       "2  https://www.linkedin.com/sales/people/ACwAAAfd...   \n",
       "3  https://www.linkedin.com/sales/people/ACwAABj7...   \n",
       "4  https://www.linkedin.com/sales/people/ACwAAAtz...   \n",
       "\n",
       "                                        linkedin_url  operator_timestamp  \n",
       "0                                                     11/23/2022 1:55:29  \n",
       "1            https://www.linkedin.com/in/tarunkohli/  11/23/2022 1:55:29  \n",
       "2       https://ch.linkedin.com/in/rolf-lux-81b24b38  11/23/2022 1:55:29  \n",
       "3  https://www.linkedin.com/in/rita-m%C3%BCller-1...  11/23/2022 1:55:29  \n",
       "4            https://ch.linkedin.com/in/rolfbachmann  11/23/2022 1:55:29  "
      ]
     },
     "execution_count": 12,
     "metadata": {},
     "output_type": "execute_result"
    }
   ],
   "source": [
    "df.head()"
   ]
  },
  {
   "cell_type": "code",
   "execution_count": 13,
   "metadata": {},
   "outputs": [],
   "source": [
    "def localize_timestamp(df, time_zone):\n",
    "    \"\"\"Localize a timestamp to a given timezone.\"\"\"\n",
    "\n",
    "    return df.dt.tz_localize(time_zone, ambiguous=\"infer\")\n",
    "\n",
    "\n",
    "def convert_timestamp(df, time_zone):\n",
    "    \"\"\"Convert a timestamp to a given timezone.\"\"\"\n",
    "\n",
    "    return df.dt.tz_convert(time_zone)"
   ]
  },
  {
   "cell_type": "code",
   "execution_count": 42,
   "metadata": {},
   "outputs": [],
   "source": [
    "def null_validation(df):\n",
    "    \"\"\"Check for null values.\"\"\"\n",
    "\n",
    "    not_null_cols = [\"operator_timestamp\", \"title\", \"company\", \"first_name\", \"last_name\"]\n",
    "    failed_validation = []\n",
    "    for col in not_null_cols:\n",
    "        if df[col].isnull().any():\n",
    "            failed_validation.append(col)\n",
    "    return failed_validation\n",
    "            \n",
    "        \n",
    "            "
   ]
  },
  {
   "cell_type": "code",
   "execution_count": null,
   "metadata": {},
   "outputs": [],
   "source": []
  },
  {
   "cell_type": "code",
   "execution_count": 47,
   "metadata": {},
   "outputs": [],
   "source": [
    "def datetime_type_validation(df):\n",
    "    \"\"\"Check for datetime type.\"\"\"\n",
    "\n",
    "    if df[\"operator_timestamp\"].dtype != \"datetime64[ns, UTC]\":\n",
    "        return True\n",
    "    return False\n",
    "\n",
    "    \n",
    "        \n"
   ]
  },
  {
   "cell_type": "code",
   "execution_count": null,
   "metadata": {},
   "outputs": [],
   "source": []
  },
  {
   "cell_type": "code",
   "execution_count": null,
   "metadata": {},
   "outputs": [],
   "source": []
  },
  {
   "cell_type": "code",
   "execution_count": 14,
   "metadata": {},
   "outputs": [],
   "source": [
    "# Convert operator_timestamp to datetime type\n",
    "df[\"operator_timestamp\"] = pd.to_datetime(df[\"operator_timestamp\"])"
   ]
  },
  {
   "cell_type": "code",
   "execution_count": 15,
   "metadata": {},
   "outputs": [
    {
     "data": {
      "text/plain": [
       "0   2022-11-23 01:55:29\n",
       "1   2022-11-23 01:55:29\n",
       "2   2022-11-23 01:55:29\n",
       "3   2022-11-23 01:55:29\n",
       "4   2022-11-23 01:55:29\n",
       "Name: operator_timestamp, dtype: datetime64[ns]"
      ]
     },
     "execution_count": 15,
     "metadata": {},
     "output_type": "execute_result"
    }
   ],
   "source": [
    "df[\"operator_timestamp\"].head()"
   ]
  },
  {
   "cell_type": "code",
   "execution_count": 16,
   "metadata": {},
   "outputs": [],
   "source": [
    "# convert and localize time\n",
    "df[\"operator_timestamp\"] = localize_timestamp(df[\"operator_timestamp\"], \"Africa/Lagos\")\n",
    "df[\"operator_timestamp\"] = convert_timestamp(df[\"operator_timestamp\"], \"UTC\")"
   ]
  },
  {
   "cell_type": "code",
   "execution_count": 17,
   "metadata": {},
   "outputs": [
    {
     "data": {
      "text/plain": [
       "0   2022-11-23 00:55:29+00:00\n",
       "1   2022-11-23 00:55:29+00:00\n",
       "2   2022-11-23 00:55:29+00:00\n",
       "3   2022-11-23 00:55:29+00:00\n",
       "4   2022-11-23 00:55:29+00:00\n",
       "Name: operator_timestamp, dtype: datetime64[ns, UTC]"
      ]
     },
     "execution_count": 17,
     "metadata": {},
     "output_type": "execute_result"
    }
   ],
   "source": [
    "df['operator_timestamp'].head()"
   ]
  },
  {
   "cell_type": "code",
   "execution_count": 18,
   "metadata": {},
   "outputs": [
    {
     "data": {
      "text/html": [
       "<div>\n",
       "<style scoped>\n",
       "    .dataframe tbody tr th:only-of-type {\n",
       "        vertical-align: middle;\n",
       "    }\n",
       "\n",
       "    .dataframe tbody tr th {\n",
       "        vertical-align: top;\n",
       "    }\n",
       "\n",
       "    .dataframe thead th {\n",
       "        text-align: right;\n",
       "    }\n",
       "</style>\n",
       "<table border=\"1\" class=\"dataframe\">\n",
       "  <thead>\n",
       "    <tr style=\"text-align: right;\">\n",
       "      <th></th>\n",
       "      <th>company</th>\n",
       "      <th>first_name</th>\n",
       "      <th>last_name</th>\n",
       "      <th>title</th>\n",
       "      <th>sales_nav_url</th>\n",
       "      <th>linkedin_url</th>\n",
       "      <th>operator_timestamp</th>\n",
       "    </tr>\n",
       "  </thead>\n",
       "  <tbody>\n",
       "    <tr>\n",
       "      <th>0</th>\n",
       "      <td>Swiss Re</td>\n",
       "      <td>Amit</td>\n",
       "      <td>Arora</td>\n",
       "      <td>Head - Digital Transformations &amp; Process Re-En...</td>\n",
       "      <td>https://www.linkedin.com/sales/people/ACwAAAAw...</td>\n",
       "      <td></td>\n",
       "      <td>2022-11-23 00:55:29+00:00</td>\n",
       "    </tr>\n",
       "    <tr>\n",
       "      <th>1</th>\n",
       "      <td>Swiss Re</td>\n",
       "      <td>Tarun</td>\n",
       "      <td>Kohli</td>\n",
       "      <td>Managing Director &amp; Head - New Propositions</td>\n",
       "      <td>https://www.linkedin.com/sales/people/ACwAAACF...</td>\n",
       "      <td>https://www.linkedin.com/in/tarunkohli/</td>\n",
       "      <td>2022-11-23 00:55:29+00:00</td>\n",
       "    </tr>\n",
       "    <tr>\n",
       "      <th>2</th>\n",
       "      <td>Swiss Re</td>\n",
       "      <td>Rolf</td>\n",
       "      <td>Lux</td>\n",
       "      <td>Head Strategy &amp; Operations, Global Business So...</td>\n",
       "      <td>https://www.linkedin.com/sales/people/ACwAAAfd...</td>\n",
       "      <td>https://ch.linkedin.com/in/rolf-lux-81b24b38</td>\n",
       "      <td>2022-11-23 00:55:29+00:00</td>\n",
       "    </tr>\n",
       "    <tr>\n",
       "      <th>3</th>\n",
       "      <td>Swiss Re</td>\n",
       "      <td>Rita</td>\n",
       "      <td>Müller</td>\n",
       "      <td>Head of P&amp;C Business Management UK and Ireland...</td>\n",
       "      <td>https://www.linkedin.com/sales/people/ACwAABj7...</td>\n",
       "      <td>https://www.linkedin.com/in/rita-m%C3%BCller-1...</td>\n",
       "      <td>2022-11-23 00:55:29+00:00</td>\n",
       "    </tr>\n",
       "    <tr>\n",
       "      <th>4</th>\n",
       "      <td>Swiss Re</td>\n",
       "      <td>Rolf</td>\n",
       "      <td>Bachmann</td>\n",
       "      <td>Head Global Dialogue</td>\n",
       "      <td>https://www.linkedin.com/sales/people/ACwAAAtz...</td>\n",
       "      <td>https://ch.linkedin.com/in/rolfbachmann</td>\n",
       "      <td>2022-11-23 00:55:29+00:00</td>\n",
       "    </tr>\n",
       "  </tbody>\n",
       "</table>\n",
       "</div>"
      ],
      "text/plain": [
       "    company first_name last_name  \\\n",
       "0  Swiss Re       Amit     Arora   \n",
       "1  Swiss Re      Tarun     Kohli   \n",
       "2  Swiss Re       Rolf       Lux   \n",
       "3  Swiss Re       Rita    Müller   \n",
       "4  Swiss Re       Rolf  Bachmann   \n",
       "\n",
       "                                               title  \\\n",
       "0  Head - Digital Transformations & Process Re-En...   \n",
       "1        Managing Director & Head - New Propositions   \n",
       "2  Head Strategy & Operations, Global Business So...   \n",
       "3  Head of P&C Business Management UK and Ireland...   \n",
       "4                               Head Global Dialogue   \n",
       "\n",
       "                                       sales_nav_url  \\\n",
       "0  https://www.linkedin.com/sales/people/ACwAAAAw...   \n",
       "1  https://www.linkedin.com/sales/people/ACwAAACF...   \n",
       "2  https://www.linkedin.com/sales/people/ACwAAAfd...   \n",
       "3  https://www.linkedin.com/sales/people/ACwAABj7...   \n",
       "4  https://www.linkedin.com/sales/people/ACwAAAtz...   \n",
       "\n",
       "                                        linkedin_url        operator_timestamp  \n",
       "0                                                    2022-11-23 00:55:29+00:00  \n",
       "1            https://www.linkedin.com/in/tarunkohli/ 2022-11-23 00:55:29+00:00  \n",
       "2       https://ch.linkedin.com/in/rolf-lux-81b24b38 2022-11-23 00:55:29+00:00  \n",
       "3  https://www.linkedin.com/in/rita-m%C3%BCller-1... 2022-11-23 00:55:29+00:00  \n",
       "4            https://ch.linkedin.com/in/rolfbachmann 2022-11-23 00:55:29+00:00  "
      ]
     },
     "execution_count": 18,
     "metadata": {},
     "output_type": "execute_result"
    }
   ],
   "source": [
    "df.head()"
   ]
  },
  {
   "cell_type": "code",
   "execution_count": 19,
   "metadata": {},
   "outputs": [],
   "source": [
    "\n",
    "# DB_URI = os.environ[\"DB_URI\"]\n",
    "# engine = create_engine(DB_URI, pool_pre_ping=True)"
   ]
  },
  {
   "cell_type": "code",
   "execution_count": 20,
   "metadata": {},
   "outputs": [],
   "source": [
    "# with engine.connect() as conn:\n",
    "\n",
    "#     for i in range(len(df)):\n",
    "#         try:\n",
    "#             # Try inserting the row\n",
    "#             df.iloc[i:i + 1].to_sql(\n",
    "#                 \"lead_export\", # table\n",
    "#                 conn,\n",
    "#                 schema=\"public\",\n",
    "#                 if_exists=\"append\",\n",
    "#                 method=None,  # single row per insert\n",
    "#                 index=False,\n",
    "#             )\n",
    "#         except exc.IntegrityError:\n",
    "#             # Ignore duplicates\n",
    "#             pass"
   ]
  },
  {
   "cell_type": "code",
   "execution_count": 21,
   "metadata": {},
   "outputs": [],
   "source": [
    "# drop redundant columns\n",
    "df.drop([\"sales_nav_url\", \"linkedin_url\"], axis=1, inplace=True)"
   ]
  },
  {
   "cell_type": "code",
   "execution_count": 46,
   "metadata": {},
   "outputs": [],
   "source": [
    "# null validation\n",
    "null_validations = null_validation(df)\n",
    "if null_validations:\n",
    "    print(\"Failed Vaildations on:\", null_validations)\n",
    "    \n",
    "    "
   ]
  },
  {
   "cell_type": "code",
   "execution_count": 50,
   "metadata": {},
   "outputs": [],
   "source": [
    "# datetime validation\n",
    "\n",
    "dt_validation = datetime_type_validation(df)\n",
    "if dt_validation:\n",
    "    print(\"Datetime validation failed on: operator_timestamp\")"
   ]
  },
  {
   "cell_type": "code",
   "execution_count": 49,
   "metadata": {},
   "outputs": [],
   "source": [
    "df.to_json(\"lead_data.json\", orient=\"records\")"
   ]
  },
  {
   "cell_type": "markdown",
   "metadata": {
    "tags": []
   },
   "source": [
    "## Next actions are on lead_export_part2.ipynb"
   ]
  }
 ],
 "metadata": {
  "kernelspec": {
   "display_name": "Python (base)",
   "language": "python",
   "name": "base"
  },
  "language_info": {
   "codemirror_mode": {
    "name": "ipython",
    "version": 3
   },
   "file_extension": ".py",
   "mimetype": "text/x-python",
   "name": "python",
   "nbconvert_exporter": "python",
   "pygments_lexer": "ipython3",
   "version": "3.7.3"
  }
 },
 "nbformat": 4,
 "nbformat_minor": 4
}
