{
 "cells": [
  {
   "cell_type": "code",
   "execution_count": 65,
   "id": "48699d39-3ce6-42ca-abd5-6f646a96e816",
   "metadata": {},
   "outputs": [],
   "source": [
    "# import packages\n",
    "from pyspark.sql import SparkSession\n",
    "import pyspark.sql.types as T\n",
    "import pyspark.sql.functions as F\n",
    "import json"
   ]
  },
  {
   "cell_type": "code",
   "execution_count": null,
   "id": "52b1a093-8a42-410d-a3dd-a7b4ef712b97",
   "metadata": {},
   "outputs": [],
   "source": []
  },
  {
   "cell_type": "code",
   "execution_count": 66,
   "id": "cfb9ffab-6b82-40ad-83f1-0663aa2df263",
   "metadata": {},
   "outputs": [],
   "source": [
    "# intialize spark session\n",
    "spark = SparkSession.builder.appName(\n",
    "    \"Spark job for flattening JSON data\"\n",
    ").getOrCreate()"
   ]
  },
  {
   "cell_type": "code",
   "execution_count": 67,
   "id": "a005e7e1-90c1-4814-b4f8-1bf4e25c386a",
   "metadata": {},
   "outputs": [
    {
     "name": "stderr",
     "output_type": "stream",
     "text": [
      "                                                                                \r"
     ]
    }
   ],
   "source": [
    "# load leads data\n",
    "leads_df = (\n",
    "        spark.read.option(\"inferSchema\", \"true\").option(\"header\", \"true\")\n",
    "        .format(\"csv\")\n",
    "        .load(\"leads_export.csv\")\n",
    "    ) "
   ]
  },
  {
   "cell_type": "code",
   "execution_count": 68,
   "id": "0f421ac6-68d7-4189-b364-8f6f0aefa94d",
   "metadata": {},
   "outputs": [
    {
     "name": "stdout",
     "output_type": "stream",
     "text": [
      "+--------------------+----------+---------+--------------------+--------------------+-------------------+\n",
      "|             company|first_name|last_name|               title|             country| operator_timestamp|\n",
      "+--------------------+----------+---------+--------------------+--------------------+-------------------+\n",
      "|       Hernandez Ltd|   Spencer|   Conner|Local Government ...|             Denmark|2021-08-31 00:00:00|\n",
      "|          Nelson PLC|     Aaron|    Grant|Technical Sales E...|     Solomon Islands|2022-10-26 00:00:00|\n",
      "|Marks, Swanson an...|      Dana|    Hayes|Environmental Hea...|Falkland Islands ...|2021-08-14 00:00:00|\n",
      "|Simpson, Singleto...|    Teresa|  Pearson|Communications En...|        Saudi Arabia|2021-05-02 00:00:00|\n",
      "|Shepherd, Collins...|      Greg|    Green|        Town Planner|           Venezuela|2021-08-31 00:00:00|\n",
      "+--------------------+----------+---------+--------------------+--------------------+-------------------+\n",
      "only showing top 5 rows\n",
      "\n"
     ]
    }
   ],
   "source": [
    "# show top 5 rows\n",
    "leads_df.show(5)"
   ]
  },
  {
   "cell_type": "code",
   "execution_count": 69,
   "id": "a4f77451-5a63-4e5a-a39d-e2d3a1194e65",
   "metadata": {},
   "outputs": [
    {
     "data": {
      "text/plain": [
       "['company',\n",
       " 'first_name',\n",
       " 'last_name',\n",
       " 'title',\n",
       " 'country',\n",
       " 'operator_timestamp']"
      ]
     },
     "execution_count": 69,
     "metadata": {},
     "output_type": "execute_result"
    }
   ],
   "source": [
    "['company', 'first_name', 'last_name', \"title\", 'country', \"operator_timestamp\"]"
   ]
  },
  {
   "cell_type": "code",
   "execution_count": 70,
   "id": "256a8b1c-1de9-42ba-a491-b07dca86abbc",
   "metadata": {},
   "outputs": [],
   "source": [
    "# load companies data\n",
    "companies_df = (\n",
    "        spark.read.option(\"inferSchema\", \"true\").option(\"header\", \"true\")\n",
    "        .format(\"csv\")\n",
    "        .load(\"company_export.csv\")\n",
    "    ) "
   ]
  },
  {
   "cell_type": "code",
   "execution_count": 71,
   "id": "fafe5a1b-a6f3-4b94-9f04-6838b6e12745",
   "metadata": {},
   "outputs": [
    {
     "name": "stdout",
     "output_type": "stream",
     "text": [
      "+--------------------+-------------+\n",
      "|             company|  hq_location|\n",
      "+--------------------+-------------+\n",
      "|       Hernandez Ltd| South Africa|\n",
      "|          Nelson PLC|      Vietnam|\n",
      "|Marks, Swanson an...|       Serbia|\n",
      "|Simpson, Singleto...|      Uruguay|\n",
      "|Shepherd, Collins...|Guinea-Bissau|\n",
      "|       Estrada-Lewis|   San Marino|\n",
      "+--------------------+-------------+\n",
      "only showing top 6 rows\n",
      "\n"
     ]
    }
   ],
   "source": [
    "# show top 6 rows\n",
    "companies_df.show(6)"
   ]
  },
  {
   "cell_type": "code",
   "execution_count": 72,
   "id": "fa684f39-bf47-4ba4-930d-c5318a46df27",
   "metadata": {},
   "outputs": [],
   "source": [
    "# Ordering the leads by timestamp\n",
    "leads_df = leads_df.sort(\"operator_timestamp\")"
   ]
  },
  {
   "cell_type": "code",
   "execution_count": 73,
   "id": "e6d42ca1-7464-4a2c-b3bf-f0657c9a181f",
   "metadata": {},
   "outputs": [
    {
     "data": {
      "text/plain": [
       "1000000"
      ]
     },
     "execution_count": 73,
     "metadata": {},
     "output_type": "execute_result"
    }
   ],
   "source": [
    "# count leads before removing duplicates\n",
    "leads_df.count()"
   ]
  },
  {
   "cell_type": "code",
   "execution_count": 74,
   "id": "a37eefa9-947d-4199-8401-24d7d9866f54",
   "metadata": {},
   "outputs": [],
   "source": [
    "# drop duplicates based on the constraint fields\n",
    "leads_df = leads_df.dropDuplicates(['company', 'first_name', 'last_name', 'country'])"
   ]
  },
  {
   "cell_type": "code",
   "execution_count": 75,
   "id": "57e7a5da-3b52-44d5-b46c-0769ded55b77",
   "metadata": {},
   "outputs": [
    {
     "name": "stderr",
     "output_type": "stream",
     "text": [
      "                                                                                \r"
     ]
    },
    {
     "data": {
      "text/plain": [
       "999999"
      ]
     },
     "execution_count": 75,
     "metadata": {},
     "output_type": "execute_result"
    }
   ],
   "source": [
    "# count leads after removing duplicates\n",
    "leads_df.count()"
   ]
  },
  {
   "cell_type": "code",
   "execution_count": 76,
   "id": "6f763c81-9f63-4781-b6e5-f6637451a1fc",
   "metadata": {},
   "outputs": [
    {
     "data": {
      "text/plain": [
       "1000001"
      ]
     },
     "execution_count": 76,
     "metadata": {},
     "output_type": "execute_result"
    }
   ],
   "source": [
    "# count companies before removing duplicates\n",
    "companies_df.count()"
   ]
  },
  {
   "cell_type": "code",
   "execution_count": 77,
   "id": "8dc864c5-fd20-4494-a625-f2dcb7654d3d",
   "metadata": {},
   "outputs": [],
   "source": [
    "companies_df = companies_df.dropDuplicates(['company', 'hq_location'])"
   ]
  },
  {
   "cell_type": "code",
   "execution_count": 57,
   "id": "6be53feb-021d-4970-8fe4-14f2789d050b",
   "metadata": {},
   "outputs": [
    {
     "name": "stderr",
     "output_type": "stream",
     "text": [
      "                                                                                \r"
     ]
    },
    {
     "data": {
      "text/plain": [
       "977654"
      ]
     },
     "execution_count": 57,
     "metadata": {},
     "output_type": "execute_result"
    }
   ],
   "source": [
    "# count companies after removing duplicates\n",
    "companies_df.count()"
   ]
  },
  {
   "cell_type": "code",
   "execution_count": 59,
   "id": "57cf4c3d-55fe-4027-95bc-743af46cbbd5",
   "metadata": {},
   "outputs": [],
   "source": [
    "# create tempView for leads\n",
    "leads_df.createOrReplaceGlobalTempView(\"leads\")"
   ]
  },
  {
   "cell_type": "code",
   "execution_count": 60,
   "id": "1b92b8e0-c500-4114-bc43-0e0e7aab3895",
   "metadata": {},
   "outputs": [],
   "source": [
    "# create tempView for companies\n",
    "companies_df.createOrReplaceGlobalTempView(\"companies\")"
   ]
  },
  {
   "cell_type": "code",
   "execution_count": null,
   "id": "dabd7a6a-07b1-4541-8deb-5dee166ad771",
   "metadata": {},
   "outputs": [],
   "source": []
  },
  {
   "cell_type": "markdown",
   "id": "9e4d9bc3-2918-4ead-9994-33b148f7e803",
   "metadata": {
    "tags": []
   },
   "source": [
    "## Questions"
   ]
  },
  {
   "cell_type": "code",
   "execution_count": 61,
   "id": "5c78eaf3-8e02-497f-a7c8-abac9243b8e8",
   "metadata": {},
   "outputs": [
    {
     "name": "stderr",
     "output_type": "stream",
     "text": [
      "[Stage 123:==================================================>    (10 + 1) / 11]\r"
     ]
    },
    {
     "name": "stdout",
     "output_type": "stream",
     "text": [
      "+-----+------------------+\n",
      "|MONTH|TOTAL_LEADS_GOTTEN|\n",
      "+-----+------------------+\n",
      "|    1|             44444|\n",
      "|    2|             40001|\n",
      "|    3|             44371|\n",
      "|    4|             42934|\n",
      "|    5|             44801|\n",
      "|    6|             42803|\n",
      "|    7|             44620|\n",
      "|    8|             44588|\n",
      "|    9|             42831|\n",
      "|   10|             43934|\n",
      "|   11|             41147|\n",
      "+-----+------------------+\n",
      "\n"
     ]
    },
    {
     "name": "stderr",
     "output_type": "stream",
     "text": [
      "                                                                                \r"
     ]
    }
   ],
   "source": [
    "# Get total number leads gotten each month in 2022\n",
    "\n",
    "total_leads_gotten_by_year =spark.sql(\"\"\"\n",
    "\n",
    "SELECT MONTH(operator_timestamp) MONTH, COUNT(*) TOTAL_LEADS_GOTTEN\n",
    "FROM global_temp.leads\n",
    "WHERE YEAR(operator_timestamp)=YEAR(NOW())\n",
    "GROUP BY MONTH(operator_timestamp)\n",
    "ORDER BY 1\n",
    "\n",
    "\n",
    "\"\"\")\n",
    "total_leads_gotten_by_year.show()\n"
   ]
  },
  {
   "cell_type": "code",
   "execution_count": 62,
   "id": "975dc5a4-4b1c-419c-8e93-4f96be7e693b",
   "metadata": {},
   "outputs": [
    {
     "name": "stderr",
     "output_type": "stream",
     "text": [
      "[Stage 134:========================================>               (8 + 3) / 11]\r"
     ]
    },
    {
     "name": "stdout",
     "output_type": "stream",
     "text": [
      "+-------------------+------------------+\n",
      "|               DATE|TOTAL_LEADS_GOTTEN|\n",
      "+-------------------+------------------+\n",
      "|2022-11-14 00:00:00|              1445|\n",
      "|2022-11-15 00:00:00|              1439|\n",
      "|2022-11-16 00:00:00|              1489|\n",
      "|2022-11-17 00:00:00|              1454|\n",
      "|2022-11-18 00:00:00|              1446|\n",
      "|2022-11-19 00:00:00|              1455|\n",
      "|2022-11-20 00:00:00|              1418|\n",
      "|2022-11-21 00:00:00|              1426|\n",
      "|2022-11-22 00:00:00|              1388|\n",
      "|2022-11-23 00:00:00|              1465|\n",
      "+-------------------+------------------+\n",
      "\n"
     ]
    },
    {
     "name": "stderr",
     "output_type": "stream",
     "text": [
      "                                                                                \r"
     ]
    }
   ],
   "source": [
    "# Get the number leads captured in the past 10 days\n",
    "last_10_days = spark.sql(\"\"\"\n",
    "\n",
    "SELECT operator_timestamp DATE, COUNT(*) TOTAL_LEADS_GOTTEN\n",
    "FROM global_temp.leads\n",
    "WHERE operator_timestamp >= NOW() - INTERVAL '10' days \n",
    "AND operator_timestamp < NOW()\n",
    "GROUP BY 1\n",
    "ORDER BY 1\n",
    "\n",
    "\n",
    "\"\"\")\n",
    "last_10_days.show()"
   ]
  },
  {
   "cell_type": "code",
   "execution_count": 63,
   "id": "71afa463-d3de-4a6c-9353-890d2e1232d4",
   "metadata": {},
   "outputs": [
    {
     "name": "stderr",
     "output_type": "stream",
     "text": [
      "[Stage 141:==================================================>    (10 + 1) / 11]\r"
     ]
    },
    {
     "name": "stdout",
     "output_type": "stream",
     "text": [
      "+--------------------+-----+\n",
      "|             COUNTRY|COUNT|\n",
      "+--------------------+-----+\n",
      "|               Congo| 8442|\n",
      "|               Korea| 8208|\n",
      "|               Yemen| 4243|\n",
      "|            Pakistan| 4222|\n",
      "|Cocos (Keeling) I...| 4205|\n",
      "|   Brunei Darussalam| 4203|\n",
      "|      Norfolk Island| 4199|\n",
      "|               Nepal| 4199|\n",
      "|               Macao| 4198|\n",
      "|             Denmark| 4198|\n",
      "|             Armenia| 4193|\n",
      "|             Reunion| 4184|\n",
      "|          Madagascar| 4183|\n",
      "|               Aruba| 4182|\n",
      "|             Burundi| 4178|\n",
      "|          Azerbaijan| 4177|\n",
      "|             Uruguay| 4176|\n",
      "|           Mauritius| 4175|\n",
      "|            Bulgaria| 4171|\n",
      "|              Kuwait| 4169|\n",
      "+--------------------+-----+\n",
      "\n"
     ]
    },
    {
     "name": "stderr",
     "output_type": "stream",
     "text": [
      "                                                                                \r"
     ]
    }
   ],
   "source": [
    "# Top 20 countries with the highest leads so far\n",
    "leads_per_country = spark.sql(\"\"\"\n",
    "\n",
    "SELECT country COUNTRY, COUNT(*) COUNT\n",
    "FROM global_temp.leads\n",
    "GROUP BY 1\n",
    "ORDER BY 2 DESC\n",
    "LIMIT 20\n",
    "\n",
    "\n",
    "\"\"\")\n",
    "leads_per_country.show()"
   ]
  },
  {
   "cell_type": "code",
   "execution_count": 64,
   "id": "4e5309b1-496f-4afc-8fba-e8c34d14192a",
   "metadata": {},
   "outputs": [
    {
     "name": "stderr",
     "output_type": "stream",
     "text": [
      "[Stage 152:==================================================>    (10 + 1) / 11]\r"
     ]
    },
    {
     "name": "stdout",
     "output_type": "stream",
     "text": [
      "+----------------+-----+\n",
      "|         COMPANY|COUNT|\n",
      "+----------------+-----+\n",
      "|       Smith PLC| 1138|\n",
      "|       Smith Ltd| 1134|\n",
      "|       Smith LLC| 1097|\n",
      "|       Smith Inc| 1088|\n",
      "|     Smith Group| 1063|\n",
      "|  Smith and Sons| 1023|\n",
      "|Johnson and Sons|  862|\n",
      "|     Johnson Ltd|  823|\n",
      "|     Johnson LLC|  815|\n",
      "|     Johnson PLC|  787|\n",
      "+----------------+-----+\n",
      "only showing top 10 rows\n",
      "\n"
     ]
    },
    {
     "name": "stderr",
     "output_type": "stream",
     "text": [
      "                                                                                \r"
     ]
    }
   ],
   "source": [
    "# How many staffs are in the HQ of company? \n",
    "\n",
    "hq_staffs = spark.sql(\"\"\"\n",
    "\n",
    "SELECT c.company COMPANY, COUNT(*) COUNT\n",
    "FROM global_temp.leads l\n",
    "LEFT JOIN global_temp.companies c ON c.hq_location = l.country AND c.company = l.company\n",
    "\n",
    "WHERE c.company IS NOT NULL\n",
    "\n",
    "GROUP BY 1\n",
    "ORDER BY 2 DESC\n",
    "\n",
    "\n",
    "\"\"\")\n",
    "hq_staffs.show(10)"
   ]
  },
  {
   "cell_type": "code",
   "execution_count": null,
   "id": "9da6c07d-2cbb-41c4-9eb4-44c2047920f0",
   "metadata": {},
   "outputs": [],
   "source": []
  },
  {
   "cell_type": "code",
   "execution_count": 15,
   "id": "3e0408ca-04c7-4bae-a520-ea8fd55373eb",
   "metadata": {},
   "outputs": [],
   "source": [
    "def save_as_parquet(dataframe, file_path, mode=\"append\"):\n",
    "    \"\"\"Save a dataframe as a parquet file.\"\"\"\n",
    "    dataframe.write.mode(mode).parquet(file_path)\n"
   ]
  },
  {
   "cell_type": "code",
   "execution_count": null,
   "id": "9baf160c-0d78-4a10-95c7-cd7668b6d3f0",
   "metadata": {},
   "outputs": [],
   "source": []
  },
  {
   "cell_type": "code",
   "execution_count": 16,
   "id": "a6595ffe-10ad-4d3f-afe0-c2e088016975",
   "metadata": {},
   "outputs": [
    {
     "name": "stderr",
     "output_type": "stream",
     "text": [
      "                                                                                \r"
     ]
    }
   ],
   "source": [
    "save_as_parquet(total_leads_gotten_by_year, \"output/total_leads_gotten_by_year.parquet\")"
   ]
  },
  {
   "cell_type": "code",
   "execution_count": 17,
   "id": "813f9256-363c-448b-ad7b-6f5745c19b15",
   "metadata": {},
   "outputs": [],
   "source": [
    "save_as_parquet(last_10_days, \"output/last_10_days.parquet\")"
   ]
  },
  {
   "cell_type": "code",
   "execution_count": 18,
   "id": "add5438d-9541-45f1-9112-0237c1518f22",
   "metadata": {},
   "outputs": [
    {
     "name": "stderr",
     "output_type": "stream",
     "text": [
      "                                                                                \r"
     ]
    }
   ],
   "source": [
    "save_as_parquet(leads_per_country, \"output/leads_per_country.parquet\")"
   ]
  },
  {
   "cell_type": "code",
   "execution_count": 19,
   "id": "51f15444-cbcf-48bb-9bbe-7d1d1c6da6d0",
   "metadata": {},
   "outputs": [
    {
     "name": "stderr",
     "output_type": "stream",
     "text": [
      "                                                                                \r"
     ]
    }
   ],
   "source": [
    "save_as_parquet(hq_staffs, \"output/hq_staffs.parquet\")"
   ]
  }
 ],
 "metadata": {
  "kernelspec": {
   "display_name": "Python 3 (ipykernel)",
   "language": "python",
   "name": "python3"
  },
  "language_info": {
   "codemirror_mode": {
    "name": "ipython",
    "version": 3
   },
   "file_extension": ".py",
   "mimetype": "text/x-python",
   "name": "python",
   "nbconvert_exporter": "python",
   "pygments_lexer": "ipython3",
   "version": "3.9.13"
  }
 },
 "nbformat": 4,
 "nbformat_minor": 5
}
